{
 "cells": [
  {
   "cell_type": "markdown",
   "metadata": {},
   "source": [
    "# Notebook for computing the anchors to each of the classes in the datasaet.\n",
    "We will calculate by K-Means the optimal anchors to each class"
   ]
  },
  {
   "cell_type": "code",
   "execution_count": 1,
   "metadata": {},
   "outputs": [],
   "source": [
    "# IMPORTS\n",
    "\n",
    "import random\n",
    "import argparse\n",
    "import numpy as np\n",
    "import json\n",
    "import utils \n",
    "import os"
   ]
  },
  {
   "cell_type": "code",
   "execution_count": 25,
   "metadata": {},
   "outputs": [],
   "source": [
    "# Configuration\n",
    "\n",
    "data_root = os.path.join(\"..\", \"DATA\", \"TRAIN_DATA\")\n",
    "current_class = \"SMD_SIMPLE_DEVICE\"\n",
    "\n",
    "data_root_tmp = os.path.join(data_root, current_class)\n",
    "path_train_imgs = os.path.join(data_root_tmp, \"process_tmp_folder\" ,\"images_slice\")\n",
    "path_train_annot = os.path.join(data_root_tmp, \"process_tmp_folder\", \"labels_slice\")\n",
    "\n",
    "input_size = 416\n",
    "labels = [current_class]\n",
    "num_anchors = 12\n",
    "num_executions = 150\n"
   ]
  },
  {
   "cell_type": "markdown",
   "metadata": {},
   "source": [
    "# Automated Proposed anchors"
   ]
  },
  {
   "cell_type": "markdown",
   "metadata": {},
   "source": [
    "best_avg_iou = 0\n",
    "\n",
    "for i in range(num_executions):\n",
    "    centroids, annot_dim, avg_iou = utils.gen_anchors(path_train_imgs,path_train_annot,input_size,labels,num_anchors)\n",
    "\n",
    "    if best_avg_iou < avg_iou:\n",
    "\n",
    "        best_avg_iou = avg_iou\n",
    "        best_centroids = centroids\n",
    "        best_annot_dim = annot_dim\n",
    "\n",
    "        print(\"Best results on \", i, \" score: \", '%0.2f' % avg_iou)\n",
    "        utils.print_anchors(centroids)"
   ]
  },
  {
   "cell_type": "code",
   "execution_count": 26,
   "metadata": {},
   "outputs": [
    {
     "name": "stdout",
     "output_type": "stream",
     "text": [
      "Best results on  0  score:  0.861\n",
      "Distance : 56.49581282877211\n",
      "anchors: [[0.00,0.00], [0.00,0.00], [11.95,25.19], [17.79,35.75], [19.00,28.12], [21.35,35.35], [24.54,12.00], [34.60,64.19], [37.12,21.73], [50.10,88.46], [85.42,48.27], [152.66,114.00]]\n",
      "Best results on  2  score:  0.872\n",
      "Distance : 58.56552616835899\n",
      "anchors: [[11.96,25.20], [19.20,34.45], [29.33,44.76], [29.81,16.07], [35.87,69.15], [47.06,108.60], [48.12,79.96], [50.93,89.00], [63.52,33.87], [87.17,47.32], [96.44,66.16], [154.34,122.12]]\n",
      "Best results on  5  score:  0.890\n",
      "Distance : 51.5671255658651\n",
      "anchors: [[0.00,0.00], [0.00,0.00], [11.96,25.20], [19.21,34.48], [24.45,11.99], [34.03,39.90], [34.32,19.47], [35.92,69.17], [50.14,88.50], [70.52,35.80], [87.25,47.60], [111.22,80.09]]\n",
      "Best results on  62  score:  0.903\n",
      "Distance : 48.496011646809784\n",
      "anchors: [[0.00,0.00], [11.96,25.20], [19.20,34.45], [24.45,11.99], [29.26,44.88], [34.22,19.45], [35.92,69.17], [45.64,28.85], [50.14,88.50], [72.53,36.31], [87.16,47.68], [111.22,80.09]]\n"
     ]
    }
   ],
   "source": [
    "best_centroids, best_annot_dim, best_avg_iou = utils.gen_anchors(\n",
    "    path_train_imgs,\n",
    "    path_train_annot,\n",
    "    input_size,labels,\n",
    "    num_anchors, \n",
    "    num_executions,\n",
    "    verbose = True)\n",
    "\n"
   ]
  },
  {
   "cell_type": "code",
   "execution_count": 27,
   "metadata": {},
   "outputs": [
    {
     "data": {
      "image/png": "[encoded data removed]",
      "text/plain": [
       "<Figure size 432x288 with 1 Axes>"
      ]
     },
     "metadata": {
      "needs_background": "light"
     },
     "output_type": "display_data"
    }
   ],
   "source": [
    "import matplotlib.pyplot as plt\n",
    "\n",
    "\n",
    "fig, ax = plt.subplots()\n",
    "\n",
    "ax.set_xlabel(r'Width', fontsize=10)\n",
    "ax.set_ylabel(r'Height', fontsize=10)\n",
    "ax.set_title('Components Shape')\n",
    "\n",
    "ax.grid(True)\n",
    "\n",
    "ax.scatter(best_annot_dim[:,0], best_annot_dim[:,1])\n",
    "ax.scatter(best_centroids[:,0], best_centroids[:,1])\n",
    "\n",
    "plt.show()"
   ]
  },
  {
   "cell_type": "markdown",
   "metadata": {},
   "source": [
    "# Set Anchors and final IOU"
   ]
  },
  {
   "cell_type": "code",
   "execution_count": 28,
   "metadata": {},
   "outputs": [
    {
     "name": "stdout",
     "output_type": "stream",
     "text": [
      "Scale 1=32\n",
      "Scale 2=16\n",
      "Scale 3=8\n",
      "Scale 3=4\n"
     ]
    }
   ],
   "source": [
    "scale1 = input_size / 13\n",
    "print(\"Scale 1=%d\"%scale1)\n",
    "scale2 = input_size / 26\n",
    "print(\"Scale 2=%d\"%scale2)\n",
    "scale3 = input_size / 52\n",
    "print(\"Scale 3=%d\"%scale3)\n",
    "scale4 = input_size / 104\n",
    "print(\"Scale 3=%d\"%scale4)\n"
   ]
  },
  {
   "cell_type": "code",
   "execution_count": 29,
   "metadata": {},
   "outputs": [
    {
     "name": "stdout",
     "output_type": "stream",
     "text": [
      "(9, 2)\n"
     ]
    }
   ],
   "source": [
    "\n",
    "# Anchors Definition\n",
    "yolo_anchors = np.array([[12,  25], [37,   22], [22,   37],\n",
    "                       [36,  75], [87,   48], [60,  110],\n",
    "                       [142,80], [100, 200], [200, 110]])\n",
    "\n",
    "print(yolo_anchors.shape)"
   ]
  },
  {
   "cell_type": "code",
   "execution_count": 30,
   "metadata": {},
   "outputs": [
    {
     "name": "stdout",
     "output_type": "stream",
     "text": [
      "Final score:  0.77\n"
     ]
    }
   ],
   "source": [
    "avg_iou = utils.avg_IOU(best_annot_dim, yolo_anchors)\n",
    "\n",
    "print(\"Final score: \", '%0.2f' % avg_iou)"
   ]
  },
  {
   "cell_type": "code",
   "execution_count": 31,
   "metadata": {},
   "outputs": [
    {
     "data": {
      "image/png": "[encoded data removed]",
      "text/plain": [
       "<Figure size 432x288 with 1 Axes>"
      ]
     },
     "metadata": {
      "needs_background": "light"
     },
     "output_type": "display_data"
    }
   ],
   "source": [
    "import matplotlib.pyplot as plt\n",
    "\n",
    "\n",
    "fig, ax = plt.subplots()\n",
    "\n",
    "ax.set_xlabel(r'Width', fontsize=10)\n",
    "ax.set_ylabel(r'Height', fontsize=10)\n",
    "ax.set_title('Components Shape')\n",
    "\n",
    "ax.grid(True)\n",
    "\n",
    "ax.scatter(best_annot_dim[:,0], best_annot_dim[:,1])\n",
    "ax.scatter(yolo_anchors[:,0], yolo_anchors[:,1])\n",
    "\n",
    "\n",
    "x1, y1 = [scale1, 0], [scale1, scale1]\n",
    "\n",
    "x2, y2 = [scale2, 0], [scale2, scale2]\n",
    "\n",
    "x3, y3 = [scale3, 0], [scale3, scale3]\n",
    "\n",
    "#ax.plot(x1, y1, x2, y2, x3, y3,marker = 'o')\n",
    "\n",
    "plt.show()"
   ]
  },
  {
   "cell_type": "code",
   "execution_count": null,
   "metadata": {},
   "outputs": [],
   "source": []
  }
 ],
 "metadata": {
  "interpreter": {
   "hash": "767d51c1340bd893661ea55ea3124f6de3c7a262a8b4abca0554b478b1e2ff90"
  },
  "kernelspec": {
   "display_name": "Python 3 (ipykernel)",
   "language": "python",
   "name": "python3"
  },
  "language_info": {
   "codemirror_mode": {
    "name": "ipython",
    "version": 3
   },
   "file_extension": ".py",
   "mimetype": "text/x-python",
   "name": "python",
   "nbconvert_exporter": "python",
   "pygments_lexer": "ipython3",
   "version": "3.8.12"
  }
 },
 "nbformat": 4,
 "nbformat_minor": 4
}
