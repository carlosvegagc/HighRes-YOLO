{
 "cells": [
  {
   "cell_type": "markdown",
   "metadata": {},
   "source": [
    "# Notebook for computing the anchors to each of the classes in the datasaet.\n",
    "We will calculate by K-Means the optimal anchors to each class"
   ]
  },
  {
   "cell_type": "code",
   "execution_count": 19,
   "metadata": {},
   "outputs": [],
   "source": [
    "# IMPORTS\n",
    "\n",
    "import random\n",
    "import argparse\n",
    "import numpy as np\n",
    "import json\n",
    "import utils \n",
    "import os"
   ]
  },
  {
   "cell_type": "code",
   "execution_count": 20,
   "metadata": {},
   "outputs": [],
   "source": [
    "# Configuration\n",
    "\n",
    "data_root = os.path.join(\".\", \"DATA\")\n",
    "current_class = \"starfish\"\n",
    "data_root_tmp = data_root\n",
    "path_train_imgs = os.path.join(data_root_tmp, \"process_tmp_folder\" ,\"images_slice\")\n",
    "path_train_annot = os.path.join(data_root_tmp, \"process_tmp_folder\", \"labels_slice\")\n",
    "\n",
    "input_size = 416\n",
    "labels = [current_class]\n",
    "num_anchors = 9\n",
    "num_executions = 150\n"
   ]
  },
  {
   "cell_type": "markdown",
   "metadata": {},
   "source": [
    "# Automated Proposed anchors"
   ]
  },
  {
   "cell_type": "markdown",
   "metadata": {},
   "source": [
    "best_avg_iou = 0\n",
    "\n",
    "for i in range(num_executions):\n",
    "    centroids, annot_dim, avg_iou = utils.gen_anchors(path_train_imgs,path_train_annot,input_size,labels,num_anchors)\n",
    "\n",
    "    if best_avg_iou < avg_iou:\n",
    "\n",
    "        best_avg_iou = avg_iou\n",
    "        best_centroids = centroids\n",
    "        best_annot_dim = annot_dim\n",
    "\n",
    "        print(\"Best results on \", i, \" score: \", '%0.2f' % avg_iou)\n",
    "        utils.print_anchors(centroids)"
   ]
  },
  {
   "cell_type": "code",
   "execution_count": 21,
   "metadata": {},
   "outputs": [
    {
     "name": "stdout",
     "output_type": "stream",
     "text": [
      "Best results on  0  score:  0.835\n",
      "Distance : 28.083290460441937\n",
      "anchors: [[27.85,23.57], [34.80,33.88], [42.39,37.39], [42.40,28.74], [44.63,55.00], [49.64,44.88], [66.81,56.45], [67.16,38.74], [93.43,77.08]]\n",
      "Best results on  1  score:  0.840\n",
      "Distance : 35.46111186537397\n",
      "anchors: [[26.59,24.10], [36.76,34.58], [40.21,27.74], [44.62,44.54], [58.24,53.35], [59.78,35.24], [76.48,46.82], [79.79,68.09], [108.71,89.54]]\n",
      "Best results on  3  score:  0.846\n",
      "Distance : 35.12919049137175\n",
      "anchors: [[20.47,18.87], [29.68,27.41], [39.41,33.59], [40.52,22.67], [44.64,44.80], [58.06,53.03], [66.77,39.25], [78.59,61.97], [98.55,85.32]]\n",
      "Best results on  5  score:  0.847\n",
      "Distance : 35.418798339557036\n",
      "anchors: [[19.89,17.82], [28.96,26.88], [39.14,33.47], [40.50,22.69], [44.67,44.75], [58.10,53.19], [66.73,39.24], [78.85,61.72], [98.10,85.26]]\n",
      "Best results on  17  score:  0.847\n",
      "Distance : 34.41798592432854\n",
      "anchors: [[20.38,18.98], [32.06,25.13], [35.14,34.85], [43.26,31.59], [45.07,44.79], [58.21,53.23], [67.29,39.51], [78.85,61.72], [98.10,85.26]]\n",
      "Best results on  56  score:  0.847\n",
      "Distance : 34.41111406415499\n",
      "anchors: [[20.38,18.98], [32.06,25.13], [35.14,34.85], [43.26,31.59], [45.01,44.74], [58.12,53.19], [67.29,39.51], [78.85,61.72], [98.10,85.26]]\n",
      "Best results on  67  score:  0.847\n",
      "Distance : 34.40612539943443\n",
      "anchors: [[20.38,18.98], [32.06,25.17], [35.16,34.87], [43.26,31.59], [45.04,44.71], [57.99,53.06], [67.39,39.57], [78.61,61.86], [98.26,85.28]]\n",
      "Best results on  70  score:  0.847\n",
      "Distance : 34.4003917544045\n",
      "anchors: [[20.38,18.98], [32.06,25.17], [35.16,34.87], [43.26,31.59], [45.00,44.72], [58.06,53.03], [67.29,39.51], [78.61,61.86], [98.26,85.28]]\n",
      "Best results on  133  score:  0.847\n",
      "Distance : 34.45877492011748\n",
      "anchors: [[20.38,18.98], [32.06,25.13], [35.14,34.85], [43.26,31.59], [45.00,44.72], [58.06,53.03], [67.29,39.51], [78.59,61.97], [98.55,85.32]]\n",
      "Best results on  141  score:  0.847\n",
      "Distance : 34.51741112551384\n",
      "anchors: [[20.07,18.66], [31.93,25.07], [35.13,34.82], [43.26,31.59], [45.01,44.74], [58.12,53.19], [67.29,39.51], [78.85,61.72], [98.10,85.26]]\n"
     ]
    }
   ],
   "source": [
    "best_centroids, best_annot_dim, best_avg_iou = utils.gen_anchors(\n",
    "    path_train_imgs,\n",
    "    path_train_annot,\n",
    "    input_size,labels,\n",
    "    num_anchors, \n",
    "    num_executions,\n",
    "    verbose = True)\n",
    "\n"
   ]
  },
  {
   "cell_type": "code",
   "execution_count": 22,
   "metadata": {},
   "outputs": [
    {
     "data": {
      "image/png": "[encoded data removed]",
      "text/plain": [
       "<Figure size 432x288 with 1 Axes>"
      ]
     },
     "metadata": {
      "needs_background": "light"
     },
     "output_type": "display_data"
    }
   ],
   "source": [
    "import matplotlib.pyplot as plt\n",
    "\n",
    "\n",
    "fig, ax = plt.subplots()\n",
    "\n",
    "ax.set_xlabel(r'Width', fontsize=10)\n",
    "ax.set_ylabel(r'Height', fontsize=10)\n",
    "ax.set_title('Components Shape')\n",
    "\n",
    "ax.grid(True)\n",
    "\n",
    "ax.scatter(best_annot_dim[:,0], best_annot_dim[:,1])\n",
    "ax.scatter(best_centroids[:,0], best_centroids[:,1])\n",
    "\n",
    "plt.show()"
   ]
  },
  {
   "cell_type": "markdown",
   "metadata": {},
   "source": [
    "# Set Anchors and final IOU"
   ]
  },
  {
   "cell_type": "code",
   "execution_count": 23,
   "metadata": {},
   "outputs": [
    {
     "name": "stdout",
     "output_type": "stream",
     "text": [
      "Scale 1=32\n",
      "Scale 2=16\n",
      "Scale 3=8\n",
      "Scale 3=4\n"
     ]
    }
   ],
   "source": [
    "scale1 = input_size / 13\n",
    "print(\"Scale 1=%d\"%scale1)\n",
    "scale2 = input_size / 26\n",
    "print(\"Scale 2=%d\"%scale2)\n",
    "scale3 = input_size / 52\n",
    "print(\"Scale 3=%d\"%scale3)\n",
    "scale4 = input_size / 104\n",
    "print(\"Scale 3=%d\"%scale4)\n"
   ]
  },
  {
   "cell_type": "code",
   "execution_count": 27,
   "metadata": {},
   "outputs": [
    {
     "name": "stdout",
     "output_type": "stream",
     "text": [
      "(9, 2)\n"
     ]
    }
   ],
   "source": [
    "\n",
    "# Anchors Definition\n",
    "yolo_anchors = np.array([[20,  19], [32, 25], [35, 35],\n",
    "                         [43,  32], [45, 45], [58, 53],\n",
    "                         [67,  40], [79, 62], [98, 85]])\n",
    "\n",
    "print(yolo_anchors.shape)"
   ]
  },
  {
   "cell_type": "code",
   "execution_count": 30,
   "metadata": {},
   "outputs": [
    {
     "name": "stdout",
     "output_type": "stream",
     "text": [
      "Final score:  0.8476\n"
     ]
    }
   ],
   "source": [
    "avg_iou = utils.avg_IOU(best_annot_dim, yolo_anchors)\n",
    "\n",
    "print(\"Final score: \", '%0.4f' % avg_iou)"
   ]
  },
  {
   "cell_type": "code",
   "execution_count": 31,
   "metadata": {},
   "outputs": [
    {
     "data": {
      "image/png": "[encoded data removed]",
      "text/plain": [
       "<Figure size 432x288 with 1 Axes>"
      ]
     },
     "metadata": {
      "needs_background": "light"
     },
     "output_type": "display_data"
    }
   ],
   "source": [
    "import matplotlib.pyplot as plt\n",
    "\n",
    "\n",
    "fig, ax = plt.subplots()\n",
    "\n",
    "ax.set_xlabel(r'Width', fontsize=10)\n",
    "ax.set_ylabel(r'Height', fontsize=10)\n",
    "ax.set_title('Components Shape')\n",
    "\n",
    "ax.grid(True)\n",
    "\n",
    "ax.scatter(best_annot_dim[:,0], best_annot_dim[:,1])\n",
    "ax.scatter(yolo_anchors[:,0], yolo_anchors[:,1])\n",
    "\n",
    "\n",
    "x1, y1 = [scale1, 0], [scale1, scale1]\n",
    "\n",
    "x2, y2 = [scale2, 0], [scale2, scale2]\n",
    "\n",
    "x3, y3 = [scale3, 0], [scale3, scale3]\n",
    "\n",
    "#ax.plot(x1, y1, x2, y2, x3, y3,marker = 'o')\n",
    "\n",
    "plt.show()"
   ]
  },
  {
   "cell_type": "code",
   "execution_count": null,
   "metadata": {},
   "outputs": [],
   "source": []
  }
 ],
 "metadata": {
  "interpreter": {
   "hash": "767d51c1340bd893661ea55ea3124f6de3c7a262a8b4abca0554b478b1e2ff90"
  },
  "kernelspec": {
   "display_name": "Python 3 (ipykernel)",
   "language": "python",
   "name": "python3"
  },
  "language_info": {
   "codemirror_mode": {
    "name": "ipython",
    "version": 3
   },
   "file_extension": ".py",
   "mimetype": "text/x-python",
   "name": "python",
   "nbconvert_exporter": "python",
   "pygments_lexer": "ipython3",
   "version": "3.8.12"
  }
 },
 "nbformat": 4,
 "nbformat_minor": 4
}
